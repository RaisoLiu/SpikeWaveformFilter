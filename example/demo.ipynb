{
 "cells": [
  {
   "cell_type": "code",
   "execution_count": 1,
   "id": "7f4bced5-9b63-4c05-a6b7-1a665090c1bb",
   "metadata": {},
   "outputs": [],
   "source": [
    "import joblib\n",
    "import numpy as np\n",
    "from matplotlib import pyplot as plt\n",
    "\n",
    "from spikewaveformfilter import WaveformSelectionNet"
   ]
  },
  {
   "cell_type": "code",
   "execution_count": 2,
   "id": "e5fb5c01-d737-4eb0-b7cb-9dd7ec19ca3c",
   "metadata": {},
   "outputs": [],
   "source": [
    "wf = joblib.load('B3D71-waveforms.pkl')\n",
    "uids = list(wf.keys())"
   ]
  },
  {
   "cell_type": "code",
   "execution_count": 3,
   "id": "c31036f3-430d-4257-ba2d-e4ed185fc7d9",
   "metadata": {},
   "outputs": [],
   "source": [
    "X, U = [], []\n",
    "\n",
    "for uid in uids:\n",
    "    X.append(np.mean(wf[uid], axis=0))\n",
    "    U.append(uid)\n",
    "\n",
    "X, U = np.array(X), np.array(U)\n",
    "X = X.reshape(X.shape[0], 1, X.shape[1]) # num, channel, time"
   ]
  },
  {
   "cell_type": "code",
   "execution_count": 4,
   "id": "c2322cb9-88f2-45bd-ad2c-ba8af574d15e",
   "metadata": {},
   "outputs": [],
   "source": [
    "win_size = X.shape[-1]\n",
    "model = WaveformSelectionNet(win_size)\n",
    "# model.load_model('model.pt')\n",
    "model.load_model()"
   ]
  },
  {
   "cell_type": "code",
   "execution_count": 5,
   "id": "34714998-f763-4e6c-9e14-eb4d50dd271e",
   "metadata": {},
   "outputs": [],
   "source": [
    "preds = model.predict(X)"
   ]
  },
  {
   "cell_type": "code",
   "execution_count": 6,
   "id": "711b7ba0-5e76-4dfb-9850-5bbb0ef53cf1",
   "metadata": {
    "tags": []
   },
   "outputs": [
    {
     "name": "stdout",
     "output_type": "stream",
     "text": [
      "====Report====\n",
      "before n_unit 343\n",
      "after n_unit 280\n",
      "ratio 81.63 %\n"
     ]
    }
   ],
   "source": [
    "print(\"====Report====\")\n",
    "print(\"before n_unit\", X.shape[0])\n",
    "print(\"after n_unit\", sum(preds))\n",
    "print(\"ratio {:.2f} %\".format(sum(preds) /  X.shape[0] * 100))"
   ]
  },
  {
   "cell_type": "code",
   "execution_count": 7,
   "id": "e748d202-942c-43b8-bb34-89fbc1ca46fb",
   "metadata": {
    "tags": []
   },
   "outputs": [],
   "source": [
    "good = list(U[preds == 1])\n",
    "bad = list(U[preds == 0])"
   ]
  },
  {
   "cell_type": "code",
   "execution_count": 8,
   "id": "11fa0f59-24f3-44d9-9cd9-1b2143674b46",
   "metadata": {
    "tags": []
   },
   "outputs": [
    {
     "data": {
      "text/plain": [
       "['B3D71-waveforms-preds.pkl']"
      ]
     },
     "execution_count": 8,
     "metadata": {},
     "output_type": "execute_result"
    }
   ],
   "source": [
    "result = {\n",
    "    'good': good,\n",
    "    'bad': bad\n",
    "}\n",
    "joblib.dump(result, 'B3D71-waveforms-preds.pkl')"
   ]
  }
 ],
 "metadata": {
  "kernelspec": {
   "display_name": "Python 3 (ipykernel)",
   "language": "python",
   "name": "python3"
  },
  "language_info": {
   "codemirror_mode": {
    "name": "ipython",
    "version": 3
   },
   "file_extension": ".py",
   "mimetype": "text/x-python",
   "name": "python",
   "nbconvert_exporter": "python",
   "pygments_lexer": "ipython3",
   "version": "3.10.9"
  }
 },
 "nbformat": 4,
 "nbformat_minor": 5
}
